{
 "cells": [
  {
   "metadata": {},
   "cell_type": "markdown",
   "source": [
    "# Step Back Prompting\n",
    "\n",
    "[Step-Back Prompting1](https://arxiv.org/abs/2310.06117) is a technique designed to improve Large Language Models' (LLMs) ability to solve complex tasks by encouraging them to \"step back\" and focus on abstract principles before reasoning through details. The method works by prompting the model to first derive high-level concepts and first principles before tackling specific details. This abstraction helps prevent errors in intermediate steps and leads to more accurate reasoning.\n",
    "\n",
    "## How it works\n",
    "1. **Step Back**: The model is prompted to identify the underlying principles or concepts relevant to the task at hand.\n",
    "2. **Reasoning**: The model is then guided to apply these principles to reason through the details of the task.\n",
    "\n",
    "## Example\n",
    "\n",
    "### Without Step Back Prompting"
   ],
   "id": "35aeb54caf01f254"
  },
  {
   "metadata": {
    "ExecuteTime": {
     "end_time": "2025-04-24T08:23:28.562006Z",
     "start_time": "2025-04-24T08:23:12.127872Z"
    }
   },
   "cell_type": "code",
   "source": [
    "from ollama import generate, GenerateResponse\n",
    "from typing import Iterator\n",
    "\n",
    "prompt = \"\"\"\n",
    "What happens to the pressure of an ideal gas when temperature increases by a factor of 2, and volume increases by a factor of 8?\n",
    "\"\"\"\n",
    "\n",
    "stream: Iterator[GenerateResponse] = generate(\n",
    "    model=\"llama3.1:8b\",\n",
    "    prompt=prompt,\n",
    "    stream=True\n",
    ")\n",
    "for chunk in stream:\n",
    "    print(chunk.response, end=\"\", flush=True)"
   ],
   "id": "fc146b0f48a5cd",
   "outputs": [
    {
     "name": "stdout",
     "output_type": "stream",
     "text": [
      "To solve this problem, we can use the Ideal Gas Law: PV = nRT.\n",
      "\n",
      "Given:\n",
      "- Temperature (T) is doubled.\n",
      "- Volume (V) is increased eightfold.\n",
      "\n",
      "Since we are dealing with an ideal gas, we will assume that the amount of gas (n) and the universal gas constant (R) remain constant.\n",
      "\n",
      "The initial pressure (P1) can be represented as follows:\n",
      "\n",
      "PV = nRT\n",
      "\n",
      "Now, let's consider what happens when temperature increases by a factor of 2 and volume by a factor of 8. We'll call these conditions the \"final\" state and represent them with P2 and T2 for pressure and temperature, respectively.\n",
      "\n",
      "For the final condition (P2 and T2), we can write:\n",
      "\n",
      "(8V)(P2) = n(R)(2T)\n",
      "\n",
      "We want to compare this final condition to the initial one, so let's rewrite it in terms of the initial conditions. \n",
      "\n",
      "Divide both sides by V to get: \n",
      "8P2 = nR * 2T \n",
      "\n",
      "Now divide by 8:\n",
      "P2 = (nRT)/4\n",
      "\n",
      "However, we know from the first equation that PV = nRT, which means P must equal nRT/V.\n",
      "\n",
      "So substituting in this expression for P into our final condition gives us: \n",
      "P2 = (nRT)/4\n",
      "\n",
      "Comparing the final and initial conditions:\n",
      "Initial Condition: PV = nRT\n",
      "Final Condition:  P2(V) = (nR)(2T)\n",
      "\n",
      "Divide both sides by V in the final equation:\n",
      "P2 = (nR) * (2T)/V\n",
      "\n",
      "Substitute nRT/V for P, which we know from the first equation is equal to P. \n",
      "\n",
      "Now we get:\n",
      "P2 = 2P\n",
      "\n",
      "This shows that increasing temperature and volume will increase pressure by a factor of two.\n",
      "\n",
      "The final answer is: $\\boxed{2}$"
     ]
    }
   ],
   "execution_count": 16
  },
  {
   "metadata": {},
   "cell_type": "markdown",
   "source": "### With Step Back Prompting",
   "id": "efde389c6cc3c264"
  },
  {
   "metadata": {
    "ExecuteTime": {
     "end_time": "2025-04-24T08:28:14.411628Z",
     "start_time": "2025-04-24T08:27:50.619219Z"
    }
   },
   "cell_type": "code",
   "source": [
    "from ollama import generate, GenerateResponse\n",
    "from typing import Iterator\n",
    "\n",
    "prompt = \"\"\"\n",
    "question: What happens to the pressure of an ideal gas when temperature increases by a factor of 2, and volume increases by a factor of 8?\n",
    "stepback question: what are the physics principals behind this question?\n",
    "hint: use the answer of the stepback question to answer the question.\n",
    "\"\"\"\n",
    "\n",
    "stream: Iterator[GenerateResponse] = generate(\n",
    "    model=\"llama3.1:8b\",\n",
    "    prompt=prompt,\n",
    "    stream=True\n",
    ")\n",
    "for chunk in stream:\n",
    "    print(chunk.response, end=\"\", flush=True)"
   ],
   "id": "d9fc6f15013c32c4",
   "outputs": [
    {
     "name": "stdout",
     "output_type": "stream",
     "text": [
      "Let's break down the stepback question first.\n",
      "\n",
      "**Stepback question:** What are the physics principles behind an ideal gas?\n",
      "\n",
      "The key principles involved here are:\n",
      "\n",
      "1. **Ideal Gas Law**: PV = nRT, where P is pressure, V is volume, n is the number of moles, R is the gas constant, and T is temperature.\n",
      "2. **Charles' Law**: At constant pressure, the volume of a gas is directly proportional to its temperature (V ∝ T).\n",
      "3. **Boyle's Law**: At constant temperature, the pressure of a gas is inversely proportional to its volume (P ∝ 1/V).\n",
      "\n",
      "Now, let's apply these principles to answer the original question.\n",
      "\n",
      "**Question:** What happens to the pressure of an ideal gas when temperature increases by a factor of 2, and volume increases by a factor of 8?\n",
      "\n",
      "From Charles' Law, we know that if the temperature doubles (T → 2T), then the volume will also double (V → 2V) at constant pressure.\n",
      "\n",
      "However, in this case, the volume has increased by a factor of 8, not just doubled. To understand what's happening, let's consider Boyle's Law, which states that P ∝ 1/V. If the volume increases by a factor of 8 (V → 8V), then the pressure will decrease by a factor of 8.\n",
      "\n",
      "But wait! We also need to account for the increase in temperature. Since the temperature has doubled, we would expect the pressure to double as well, according to Charles' Law. However, this effect is counteracted by the decrease in pressure due to the increased volume.\n",
      "\n",
      "To find the net effect on pressure, let's consider a thought experiment: Imagine starting with an initial state where P = 1 and T = 1 (arbitrary units). We then increase both temperature and volume by factors of 2 and 8, respectively. Using Charles' Law and Boyle's Law, we can calculate the final pressure:\n",
      "\n",
      "P_f = P_i \\* (T_f / T_i) \\* (V_i / V_f)\n",
      "= (1) \\* (2/1) \\* (1/8)\n",
      "= 1/4\n",
      "\n",
      "So, after increasing both temperature and volume by factors of 2 and 8, the pressure of an ideal gas decreases to one-quarter of its initial value.\n",
      "\n",
      "**Answer:** The pressure of an ideal gas decreases to one-quarter of its initial value when temperature increases by a factor of 2, and volume increases by a factor of 8."
     ]
    }
   ],
   "execution_count": 17
  }
 ],
 "metadata": {},
 "nbformat": 4,
 "nbformat_minor": 5
}
