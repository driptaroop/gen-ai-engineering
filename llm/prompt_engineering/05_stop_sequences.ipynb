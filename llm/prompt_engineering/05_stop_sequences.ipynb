{
 "cells": [
  {
   "metadata": {},
   "cell_type": "markdown",
   "source": [
    "# Stop Sequences\n",
    "\n",
    "A stop sequence is a string that stops the model from generating tokens. Specifying stop sequences is another way to control the length and structure of the model's response. For example, you can tell the model to generate lists that have no more than 10 items by adding \"11\" as a stop sequence.\n",
    "\n",
    "## Example"
   ],
   "id": "23945ad30e25ac1f"
  },
  {
   "metadata": {
    "ExecuteTime": {
     "end_time": "2025-04-23T13:26:57.003953Z",
     "start_time": "2025-04-23T13:25:58.316371Z"
    }
   },
   "cell_type": "code",
   "source": [
    "from ollama import generate, Options, GenerateResponse\n",
    "from typing import Iterator\n",
    "\n",
    "stream: Iterator[GenerateResponse] = generate(\n",
    "    model=\"gemma3:12b\",\n",
    "    prompt=\"List 20 best movies of the last decade\",\n",
    "    options=Options(stop=[\"11\"]),\n",
    "    stream=True\n",
    ")\n",
    "for chunk in stream:\n",
    "    print(chunk.response, end=\"\", flush=True)"
   ],
   "id": "fa40a43b0fd4b4d9",
   "outputs": [
    {
     "name": "stdout",
     "output_type": "stream",
     "text": [
      "Okay, compiling a \"best of\" list is always subjective, but here's my take on 20 of the best movies from the last decade (2014-2024), aiming for a mix of critical acclaim, cultural impact, innovation, and personal enjoyment. I've included a brief reason why each made the list.  I'm also trying to represent a variety of genres and filmmaking styles.  **Please read the \"Important Notes\" at the very bottom after the list - it explains my selection process.**\n",
      "\n",
      "1.  **_Parasite_ (2019):** Bong Joon-ho's masterpiece is a darkly comedic thriller that masterfully critiques class disparity, with impeccable direction and acting. A truly unforgettable cinematic experience.\n",
      "2.  **_Mad Max: Fury Road_ (2015):**  A visceral, breathtaking action film with incredible practical effects, stunning visuals, and a surprisingly nuanced female lead. Revitalized the action genre.\n",
      "3.  **_Moonlight_ (2016):** A deeply moving and poetic coming-of-age story exploring identity, sexuality, and masculinity.  Beautifully shot and acted.\n",
      "4.  **_Get Out_ (2017):** Jordan Peele's directorial debut is a brilliant horror film that blends social commentary on race with suspense and genuine scares.  Significant cultural impact.\n",
      "5.  **_Arrival_ (2016):** A thought-provoking science fiction film that prioritizes communication and understanding over typical alien invasion tropes. Intellectually stimulating and emotionally resonant.\n",
      "6.  **_Spider-Man: Into the Spider-Verse_ (2018):** A revolutionary animated film with a unique visual style and a wonderfully diverse cast of characters.  Raised the bar for superhero animation.\n",
      "7.  **_The Shape of Water_ (2017):** Guillermo del Toro's fantastical romance is visually stunning and emotionally captivating.  A beautiful fairy tale for adults.\n",
      "8.  **_Roma_ (2018):** Alfonso Cuarón's deeply personal and technically brilliant film is a nostalgic and poignant look at his childhood in Mexico.  Stunning cinematography.\n",
      "9.  **_Lady Bird_ (2017):** A charming and relatable coming-of-age story about a teenage girl navigating family, friendships, and self-discovery.  Excellent performances and sharp writing.\n",
      "10. **_Everything Everywhere All at Once_ (2022):**  A mind-bending, genre-defying film with incredible action, humor, and emotional depth.  Inventive and truly original.\n"
     ]
    }
   ],
   "execution_count": 1
  },
  {
   "metadata": {},
   "cell_type": "markdown",
   "source": "Even though the prompt asks for 20 movies, the model stops generating tokens after the 11th token. This is because we specified \"11\" as a stop sequence. The model will stop generating tokens when it encounters the stop sequence in its output.",
   "id": "4910b0873b393499"
  }
 ],
 "metadata": {},
 "nbformat": 4,
 "nbformat_minor": 5
}
