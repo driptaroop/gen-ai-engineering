{
 "cells": [
  {
   "metadata": {},
   "cell_type": "markdown",
   "source": [
    "# Output length\n",
    "Reducing the output length of the LLM doesn’t cause the LLM to become more stylistically or textually succinct in the output it creates, it just causes the LLM to stop predicting more tokens once the limit is reached. If your needs require a short output length, you’ll also\n",
    "possibly need to engineer your prompt to accommodate.\n",
    "Output length restriction is especially important for some LLM prompting techniques, like ReAct, where the LLM will keep emitting useless tokens after the response you want.\n",
    "\n",
    "## Example (without output length restriction)"
   ],
   "id": "e59e4cd481f37e04"
  },
  {
   "metadata": {
    "ExecuteTime": {
     "end_time": "2025-04-23T13:19:15.929539Z",
     "start_time": "2025-04-23T13:18:25.818266Z"
    }
   },
   "cell_type": "code",
   "source": [
    "from ollama import generate, Options, GenerateResponse\n",
    "from typing import Iterator\n",
    "\n",
    "stream: Iterator[GenerateResponse] = generate(\n",
    "    model=\"gemma3:12b\",\n",
    "    prompt=\"why is the sky blue?\",\n",
    "    options=Options(num_predict=-1), # no output length restriction\n",
    "    stream=True\n",
    ")\n",
    "for chunk in stream:\n",
    "    print(chunk.response, end=\"\", flush=True)"
   ],
   "id": "ba61690a2bed9cdc",
   "outputs": [
    {
     "name": "stdout",
     "output_type": "stream",
     "text": [
      "Okay, let's break down why the sky is blue! It's a classic question with a fascinating scientific explanation. Here's the breakdown, simplified and then with a bit more detail:\n",
      "\n",
      "**The Simple Explanation (Think of it like this):**\n",
      "\n",
      "* **Sunlight is made of all colors:** Think of a rainbow – that's sunlight split into all its colors.\n",
      "* **Air is full of tiny stuff:** The air around us is made up of tiny molecules, mostly nitrogen and oxygen.\n",
      "* **Blue light gets scattered more:** When sunlight hits these molecules, the blue and violet light waves are scattered *much* more than other colors (like red and yellow).  Think of it like bouncing a ball – the smaller the ball, the easier it bounces off obstacles.\n",
      "* **We see the scattered blue light:**  Because blue light is scattered all over the place, that's the color we see when we look up at the sky.\n",
      "\n",
      "**The More Detailed Explanation (with some science terms):**\n",
      "\n",
      "* **Rayleigh Scattering:** The phenomenon responsible for the blue sky is called *Rayleigh scattering*. It's named after the British physicist Lord Rayleigh who explained it.  Rayleigh scattering happens when light interacts with particles that are much smaller than its wavelength. (The wavelength of blue light is shorter than the wavelength of red light.)\n",
      "* **Wavelength and Color:**  Different colors of light have different wavelengths.\n",
      "    * **Blue and Violet light:** These have shorter wavelengths. They are scattered more effectively by the tiny air molecules.\n",
      "    * **Red and Yellow light:** These have longer wavelengths and are scattered less. They tend to pass straight through the atmosphere.\n",
      "* **Why not Violet?**  Violet light *is* scattered even more than blue light.  However, there are a couple of reasons we don't see a violet sky:\n",
      "    * **Sunlight has less violet light:** The sun emits slightly less violet light than blue light.\n",
      "    * **Our eyes are less sensitive to violet:** Human eyes are not as sensitive to violet light as they are to blue light.\n",
      "* **The Atmosphere's Role:** The Earth's atmosphere is crucial. Without it, the sky would be black (like in space)!\n",
      "\n",
      "**Why are sunsets red/orange?**\n",
      "\n",
      "This is a related concept!  When the sun is low on the horizon (sunrise or sunset):\n",
      "\n",
      "* **Light travels through *more* atmosphere:**  The sunlight has to pass through a much greater thickness of the atmosphere to reach our eyes.\n",
      "* **Blue light is scattered away:** Almost all the blue light is scattered away before it reaches us.\n",
      "* **Red and orange light dominate:** Only the longer wavelengths, like red and orange, are able to penetrate the thicker atmosphere and reach our eyes.\n",
      "\n",
      "\n",
      "\n",
      "Let me know if you'd like me to elaborate on any part of this!"
     ]
    }
   ],
   "execution_count": 2
  },
  {
   "metadata": {},
   "cell_type": "markdown",
   "source": [
    "See the huge output. The LLM keeps generating tokens since there is no output length restriction.\n",
    "\n",
    "## Example (with output length restriction)"
   ],
   "id": "849b33b4d95d7204"
  },
  {
   "metadata": {
    "ExecuteTime": {
     "end_time": "2025-04-23T13:19:25.176208Z",
     "start_time": "2025-04-23T13:19:22.345240Z"
    }
   },
   "cell_type": "code",
   "source": [
    "from ollama import generate, Options, GenerateResponse\n",
    "from typing import Iterator\n",
    "\n",
    "stream: Iterator[GenerateResponse] = generate(\n",
    "    model=\"gemma3:12b\",\n",
    "    prompt=\"why is the sky blue?\",\n",
    "    options=Options(num_predict=20),\n",
    "    stream=True\n",
    ")\n",
    "for chunk in stream:\n",
    "    print(chunk.response, end=\"\", flush=True)"
   ],
   "id": "e2dcdc4565e9492c",
   "outputs": [
    {
     "name": "stdout",
     "output_type": "stream",
     "text": [
      "Okay, let's break down why the sky is blue. It's a fascinating phenomenon rooted"
     ]
    }
   ],
   "execution_count": 3
  },
  {
   "metadata": {},
   "cell_type": "markdown",
   "source": "Now the output is limited to 20 tokens. The LLM stops generating tokens after the limit is reached. But that does not necessarily mean that it will be a proper response. in this example, we see that the LLM stops generating tokens after the 20th token, but the response is not complete. You may need to engineer your prompt to accommodate the output length restriction.",
   "id": "6d7245ea5b15dcf"
  }
 ],
 "metadata": {},
 "nbformat": 4,
 "nbformat_minor": 5
}
