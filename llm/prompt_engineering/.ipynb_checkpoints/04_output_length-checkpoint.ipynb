{
 "cells": [
  {
   "metadata": {},
   "cell_type": "markdown",
   "source": [
    "# Output length\n",
    "Reducing the output length of the LLM doesn’t cause the LLM to become more stylistically or textually succinct in the output it creates, it just causes the LLM to stop predicting more tokens once the limit is reached. If your needs require a short output length, you’ll also\n",
    "possibly need to engineer your prompt to accommodate.\n",
    "Output length restriction is especially important for some LLM prompting techniques, like ReAct, where the LLM will keep emitting useless tokens after the response you want.\n",
    "\n",
    "## Example (without output length restriction)"
   ],
   "id": "e59e4cd481f37e04"
  },
  {
   "metadata": {
    "ExecuteTime": {
     "end_time": "2025-04-23T13:15:52.060727Z",
     "start_time": "2025-04-23T13:14:49.696628Z"
    }
   },
   "cell_type": "code",
   "source": [
    "from ollama import generate, Options, GenerateResponse\n",
    "from typing import Iterator\n",
    "\n",
    "stream: Iterator[GenerateResponse] = generate(\n",
    "    model=\"gemma3:12b\",\n",
    "    prompt=\"why is the sky blue?\",\n",
    "    stream=True\n",
    ")\n",
    "for chunk in stream:\n",
    "    print(chunk.response, end=\"\", flush=True)"
   ],
   "id": "ba61690a2bed9cdc",
   "outputs": [
    {
     "name": "stdout",
     "output_type": "stream",
     "text": [
      "Okay, let's break down why the sky is blue! It's a classic question with a surprisingly cool scientific explanation. Here's the breakdown, avoiding overly technical jargon as much as possible:\n",
      "\n",
      "**1. Sunlight is Made of All Colors**\n",
      "\n",
      "*   Sunlight might *look* white, but it's actually a mix of *all* the colors of the rainbow: red, orange, yellow, green, blue, indigo, and violet. Think of a prism splitting light – that's what's happening on a much larger scale when sunlight reaches Earth.\n",
      "\n",
      "**2.  The Atmosphere and Air Molecules**\n",
      "\n",
      "*   The Earth is surrounded by an atmosphere, a layer of gases, mostly nitrogen and oxygen.  These gas molecules are much smaller than the wavelengths of visible light.\n",
      "\n",
      "**3.  Scattering: The Key Process – Rayleigh Scattering**\n",
      "\n",
      "*   When sunlight enters the atmosphere, it bumps into these tiny air molecules. This bumping causes the light to scatter (spread out) in different directions.\n",
      "*   **Rayleigh scattering** is the name for the specific way light scatters when it interacts with particles that are much smaller than the light's wavelength.\n",
      "*   **Crucially:**  Shorter wavelengths of light (blue and violet) are scattered *much* more strongly than longer wavelengths (red and orange).  This is because the shorter wavelengths \"fit\" better with the size of the air molecules, so they bounce around more effectively. Think of it like trying to throw a small ball (blue light) versus a large ball (red light) at a bunch of small obstacles – the small ball is going to bounce around a lot more.\n",
      "\n",
      "**4. Why Blue, Not Violet?**\n",
      "\n",
      "*   Violet light is scattered *even more* than blue light.  However, there are a few reasons we see blue instead of violet:\n",
      "    *   **Sun's Output:** The sun emits slightly less violet light than blue light.\n",
      "    *   **Atmospheric Absorption:**  The upper atmosphere absorbs some of the violet light.\n",
      "    *   **Our Eyes:**  Our eyes are less sensitive to violet light than blue light. Our brains interpret the mixture of scattered colors as blue.\n",
      "\n",
      "**5.  Sunsets and Sunrises – Why Red/Orange Then?**\n",
      "\n",
      "*   When the sun is low on the horizon (sunrise and sunset), the sunlight has to travel through *much* more of the atmosphere to reach your eyes.\n",
      "*   As the light travels through this longer path, almost all the blue light is scattered away.\n",
      "*   This leaves the longer wavelengths – orange and red – which haven't been scattered as much, to reach your eyes. That's why sunsets and sunrises often appear red or orange.\n",
      "\n",
      "**In short:** Blue light is scattered more by air molecules, making the sky appear blue. At sunrise and sunset, the blue light is scattered away, and we see the red/orange light.\n",
      "\n",
      "\n",
      "\n",
      "Do you want me to go into more detail on any of these points, or perhaps explain a different aspect of this phenomenon?"
     ]
    }
   ],
   "execution_count": 1
  }
 ],
 "metadata": {},
 "nbformat": 4,
 "nbformat_minor": 5
}
