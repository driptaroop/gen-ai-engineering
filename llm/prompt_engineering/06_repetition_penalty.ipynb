{
 "cells": [
  {
   "metadata": {},
   "cell_type": "markdown",
   "source": [
    "# Repetition Penalty\n",
    "The Repetition penalty applies a penalty on the next token proportional to how many times that token already appeared in the response and prompt. The higher the frequency penalty, the less likely a word will appear again. This setting reduces the repetition of words in the model's response by giving tokens that appear more a higher penalty.\n",
    "\n",
    "## Example"
   ],
   "id": "db1209eb681d25f1"
  },
  {
   "metadata": {
    "ExecuteTime": {
     "end_time": "2025-04-23T13:38:15.860047Z",
     "start_time": "2025-04-23T13:37:22.106110Z"
    }
   },
   "cell_type": "code",
   "source": [
    "from ollama import generate, Options, GenerateResponse\n",
    "from typing import Iterator\n",
    "\n",
    "stream: Iterator[GenerateResponse] = generate(\n",
    "    model=\"gemma3:12b\",\n",
    "    prompt=\"what is the top 3 best place to visit in Europe in spring?\",\n",
    "    options=Options(repeat_penalty=0),\n",
    "    stream=True\n",
    ")\n",
    "for chunk in stream:\n",
    "    print(chunk.response, end=\"\", flush=True)"
   ],
   "id": "8462f931ea9f987",
   "outputs": [
    {
     "name": "stdout",
     "output_type": "stream",
     "text": [
      "Okay, choosing just three is tough, but here are my picks for the top 3 best places to visit in Europe in spring, balancing beauty, good weather (relatively speaking!), and unique experiences. I'll also include why they're great for spring specifically.\n",
      "\n",
      "**1. Amsterdam, Netherlands (April/May)**\n",
      "\n",
      "*   **Why Spring is Amazing:** Tulip season! The Keukenhof Gardens are world-famous for a reason - millions of tulips in bloom is an unforgettable sight. The city itself comes alive after the grey winter, with canals lined with blossoms, outdoor cafes buzzing, and a generally cheerful atmosphere. The weather is warming up, making exploring by bike even more enjoyable.\n",
      "*   **Things to Do:** Visit Keukenhof Gardens, bike through the canals and parks, explore the museums (Rijksmuseum, Van Gogh Museum), wander through the Jordaan district, visit the flower markets, enjoy the lively cafe culture.\n",
      "*   **Considerations:** Can still be rainy. Book Keukenhof tickets in advance.\n",
      "\n",
      "**2. Florence, Italy (April/May)**\n",
      "\n",
      "*   **Why Spring is Amazing:**  Italy is gorgeous in general, but Florence in spring is particularly magical. The Tuscan landscape is lush and green, the temperatures are perfect for exploring the city and surrounding countryside, and the crowds haven't reached their summer peak. You can enjoy outdoor dining and soak in the Renaissance atmosphere.  The wisteria is blooming, adding beautiful purple hues to the architecture.\n",
      "*   **Things to Do:** Visit the Uffizi Gallery, climb to the top of Duomo, walk across Ponte Vecchio, explore the Boboli Gardens, take a day trip to the Tuscan countryside (Siena, San Gimignano), enjoy gelato and Tuscan cuisine.\n",
      "*   **Considerations:** Can be popular, so book accommodation and tours in advance.\n",
      "\n",
      "**3. Seville, Spain (April/May)**\n",
      "\n",
      "*   **Why Spring is Amazing:**  Seville experiences \"Primavera\" – a truly special time! The weather is warm and sunny, perfect for enjoying the city’s plazas and gardens.  It's also the time of the Feria de Abril, a week-long festival of flamenco, food, and fun.  The orange trees are in full bloom, filling the air with a sweet fragrance.\n",
      "*   **Things to Do:** Visit the Alcázar of Seville (a stunning royal palace), explore the Seville Cathedral and climb the Giralda tower, wander through the Santa Cruz neighborhood, experience a flamenco show, enjoy tapas and sherry, immerse yourself in the Feria de Abril (if your dates align).\n",
      "*   **Considerations:** Feria de Abril is very popular; book accommodation and experiences well in advance. It gets HOT in Seville, so spring is ideal before it becomes too scorching.\n",
      "\n",
      "**Important Notes for Spring Travel:**\n",
      "\n",
      "*   **Weather:** Spring in Europe can be unpredictable. Pack layers!  Generally, Southern Europe (Italy, Spain) will be warmer than Northern/Central Europe.\n",
      "*   **Crowds:**  Spring is a popular time to travel, so expect moderate crowds, especially around major attractions. Booking in advance is recommended.\n",
      "*   **Specific Dates:**  Consider the specific dates of your trip. Tulip season has a limited window, and festivals like the Feria de Abril have fixed dates.\n",
      "\n",
      "\n",
      "\n",
      "To help me refine my recommendations, could you tell me:\n",
      "\n",
      "*   What kind of experience are you looking for? (e.g., art, history, nature, food, festivals)\n",
      "*   What's your budget like?"
     ]
    }
   ],
   "execution_count": 2
  },
  {
   "metadata": {},
   "cell_type": "markdown",
   "source": "## Example 2",
   "id": "a480f405f55d8756"
  },
  {
   "metadata": {
    "ExecuteTime": {
     "end_time": "2025-04-23T13:39:47.645143Z",
     "start_time": "2025-04-23T13:38:46.495093Z"
    }
   },
   "cell_type": "code",
   "source": [
    "from ollama import generate, Options, GenerateResponse\n",
    "from typing import Iterator\n",
    "\n",
    "stream: Iterator[GenerateResponse] = generate(\n",
    "    model=\"gemma3:12b\",\n",
    "    prompt=\"what is the top 3 best place to visit in Europe in spring?\",\n",
    "    options=Options(repeat_penalty=2),\n",
    "    stream=True\n",
    ")\n",
    "for chunk in stream:\n",
    "    print(chunk.response, end=\"\", flush=True)"
   ],
   "id": "51ee60973e31ddf5",
   "outputs": [
    {
     "name": "stdout",
     "output_type": "stream",
     "text": [
      "Okay, choosing just three is tough, as Europe in Spring is stunning everywhere! But based on a balance of beautiful scenery, pleasant weather, and unique experiences, here are my top 3 recommendations for places to visit in Europe in spring:\n",
      "\n",
      "**1. Tuscany, Italy:**\n",
      "\n",
      "*   **Why Spring is Amazing:** Tuscany in spring is a classic for a reason. The rolling hills are blanketed in vibrant wildflowers (poppies, daisies, and more!), the weather is mild and sunny (perfect for exploring), and the crowds haven't reached their summer peak.  The vineyards are awakening, and you can witness the olive harvest (early spring).\n",
      "*   **What to Do:** Explore Florence (Uffizi Gallery, Duomo), visit charming medieval towns like Siena and San Gimignano, drive through the Chianti wine region, enjoy delicious Tuscan cuisine, and soak up the incredible scenery.\n",
      "*   **Typical Weather (April/May):**  Highs around 20-25°C (68-77°F), lows around 10-15°C (50-59°F).  Rain is possible, but generally not excessive.\n",
      "*   **Considerations:**  Book accommodation and car rentals in advance, especially if traveling during popular weeks like Easter.\n",
      "\n",
      "**2. Amsterdam, Netherlands:**\n",
      "\n",
      "*   **Why Spring is Amazing:**  Amsterdam truly comes alive in spring, most famously for the *Tulip Season*. The Keukenhof Gardens (a short distance from Amsterdam) are a breathtaking spectacle of millions of tulips in full bloom. The city itself is beautiful with blossoming trees and canals reflecting the bright skies.\n",
      "*   **What to Do:**  Visit Keukenhof Gardens (usually open late March to mid-May), explore the canals by boat, visit museums (Rijksmuseum, Van Gogh Museum), wander through the Jordaan district, and enjoy the lively atmosphere of the city.\n",
      "*   **Typical Weather (April/May):**  Highs around 13-18°C (55-64°F), lows around 6-11°C (43-52°F).  Expect some rain, but also plenty of sunshine.\n",
      "*   **Considerations:**  Book tickets for Keukenhof Gardens well in advance (essential!), and be prepared for potential crowds.\n",
      "\n",
      "**3. Seville, Spain:**\n",
      "\n",
      "*   **Why Spring is Amazing:** Seville in spring is pure magic, especially during *Semana Santa* (Holy Week) which falls in March/April. The city explodes with religious processions, incredible artistry, and a unique cultural experience. Even outside of Semana Santa, the weather is wonderfully warm and sunny, perfect for exploring the historic architecture and enjoying the Andalusian lifestyle.\n",
      "*   **What to Do:** Witness Semana Santa processions (if your dates align), explore the Alcázar of Seville (a stunning royal palace), visit the Seville Cathedral and Giralda tower, wander through the Santa Cruz neighborhood, enjoy tapas and flamenco.\n",
      "*   **Typical Weather (April/May):** Highs around 22-28°C (72-82°F), lows around 12-17°C (54-63°F). Sunshine is abundant.\n",
      "*   **Considerations:** Semana Santa is *very* busy and accommodation books up far in advance.  If you're not interested in the religious aspects, consider visiting in May to avoid the biggest crowds.\n",
      "\n",
      "\n",
      "\n",
      "To help me tailor suggestions even further, could you tell me:\n",
      "\n",
      "*   **What kind of traveler are you?** (e.g., history buff, foodie, nature lover, etc.)\n",
      "*   **What's your budget like?**\n",
      "*   **Are there any specific interests you have (e.g., art, music, hiking)?**"
     ]
    }
   ],
   "execution_count": 3
  }
 ],
 "metadata": {},
 "nbformat": 4,
 "nbformat_minor": 5
}
