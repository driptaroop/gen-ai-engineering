{
 "cells": [
  {
   "metadata": {},
   "cell_type": "markdown",
   "source": [
    "# Chain of Thought Prompting\n",
    "Chain-of-Thought (CoT) Prompting is a technique that enhances the reasoning capabilities of large language models (LLMs) by incorporating logical steps—or a “chain of thought”—within the prompt. Unlike direct-answer prompting, CoT guides the model to work through intermediate reasoning steps, making it more adept at solving complex tasks like math problems, commonsense reasoning, and symbolic manipulation.\n",
    "\n",
    "## How it differs from traditional prompting techniques\n",
    "- **Direct Answer Prompting**: Traditional prompting often leads to direct answers without intermediate reasoning. This can result in incorrect or incomplete responses, especially for complex tasks because the model may not have enough context to understand the problem fully and/or don't have the necessary knowledge to reason through the problem.\n",
    "- **Intermediate Steps**: CoT prompting encourages the model to break down the problem into smaller, manageable steps, rather than providing a direct answer. It is essential for encouraging the model to perform multi-step reasoning, which is crucial for tasks that require logical deduction or complex calculations.\n",
    "- **Achieving Efficiency without Finetuning by embedding reasoning in the prompt**: CoT works across tasks without the need for fine-tuning, using a standard prompt format that embeds reasoning, thus simplifying adaptation to various complex tasks.\n",
    "\n",
    "## How Chain-of-Thought Prompting Works\n",
    "1. **Decompose the Problem**: CoT prompts guide the model to break down a complex question into manageable steps, akin to how a human might solve the problem.\n",
    "2. **Guide with Exemplars**: CoT uses examples that demonstrate reasoning steps, helping the model grasp the method needed to reach the correct answer.\n",
    "\n",
    "## Example\n",
    "\n",
    "First we try a simple example without any reasoning steps. Here we are trying to count the number of \"I\"s in the word \"Antidisestablishmentarianism\"."
   ],
   "id": "cc2050cf23ddeed9"
  },
  {
   "metadata": {
    "ExecuteTime": {
     "end_time": "2025-04-24T08:47:09.450020Z",
     "start_time": "2025-04-24T08:47:02.526473Z"
    }
   },
   "cell_type": "code",
   "source": [
    "from ollama import generate, GenerateResponse\n",
    "from typing import Iterator\n",
    "\n",
    "prompt = \"\"\"\n",
    "How many “I”s are in the word “Antidisestablishmentarianism”?\n",
    "\"\"\"\n",
    "\n",
    "stream: Iterator[GenerateResponse] = generate(\n",
    "    model=\"gemma3:12b\",\n",
    "    prompt=prompt,\n",
    "    stream=True\n",
    ")\n",
    "for chunk in stream:\n",
    "    print(chunk.response, end=\"\", flush=True)"
   ],
   "id": "6dcd5cf3d8f868bd",
   "outputs": [
    {
     "name": "stdout",
     "output_type": "stream",
     "text": [
      "Let's count them!\n",
      "\n",
      "The word \"Antidisestablishmentarianism\" has **four** \"I\"s."
     ]
    }
   ],
   "execution_count": 12
  },
  {
   "metadata": {},
   "cell_type": "markdown",
   "source": "As we see, this answer is wrong. Now lets try to add some examples for a traditional one shot prompt without reasoning.",
   "id": "10ec91ad0ba715c1"
  },
  {
   "metadata": {
    "ExecuteTime": {
     "end_time": "2025-04-24T08:54:59.334691Z",
     "start_time": "2025-04-24T08:54:55.020280Z"
    }
   },
   "cell_type": "code",
   "source": [
    "from ollama import generate, GenerateResponse\n",
    "from typing import Iterator\n",
    "\n",
    "prompt = \"\"\"\n",
    "Question: How many “R”s are in the word “strawberry”?\n",
    "Answer: 3\n",
    "Question: How many “I”s are in the word “Antidisestablishmentarianism”?\n",
    "Answer:\n",
    "\"\"\"\n",
    "\n",
    "stream: Iterator[GenerateResponse] = generate(\n",
    "    model=\"gemma3:12b\",\n",
    "    prompt=prompt,\n",
    "    stream=True\n",
    ")\n",
    "for chunk in stream:\n",
    "    print(chunk.response, end=\"\", flush=True)"
   ],
   "id": "e53fef89cb7906c1",
   "outputs": [
    {
     "name": "stdout",
     "output_type": "stream",
     "text": [
      "Answer: 3"
     ]
    }
   ],
   "execution_count": 15
  },
  {
   "metadata": {},
   "cell_type": "markdown",
   "source": "As we see, the answer is still wrong with the one shot example. Now lets try to add chain of thought by embedding the reasoning in the example.",
   "id": "ab0ba8133ac60e49"
  },
  {
   "metadata": {
    "ExecuteTime": {
     "end_time": "2025-04-24T08:53:54.215567Z",
     "start_time": "2025-04-24T08:52:39.981195Z"
    }
   },
   "cell_type": "code",
   "source": [
    "from ollama import generate, GenerateResponse\n",
    "from typing import Iterator\n",
    "\n",
    "prompt = \"\"\"\n",
    "Question: How many “R”s are in the word “strawberry”?\n",
    "Answer: Lets think step by step. we break the word \"strawberry\" into its letters. The letters are s, t, r, a, w, b, e, r, r, y. Now we iterate through the letters and count the number of \"R\"s. at the beginning we set the counter to 0 and we increment it as soon as we come across any 'R' letter.\n",
    "start iteration:\n",
    "1. letter 1: 's' -> it is not 'r' so we don't increase the counter. counter -> 0\n",
    "2. letter 2: 't' -> it is not 'r' so we don't increase the counter. counter -> 0\n",
    "3. letter 3: 'r' -> it is 'r' so we increase the counter. counter -> 1\n",
    "4. letter 4: 'a' -> it is not 'r' so we don't increase the counter. counter -> 1\n",
    "5. letter 5: 'w' -> it is not 'r' so we don't increase the counter. counter -> 1\n",
    "6. letter 6: 'b' -> it is not 'r' so we don't increase the counter. counter -> 1\n",
    "7. letter 7: 'e' -> it is not 'r' so we don't increase the counter. counter -> 1\n",
    "8. letter 8: 'r' -> it is 'r' so we increase the counter. counter -> 2\n",
    "9. letter 9: 'r' -> it is 'r' so we increase the counter. counter -> 3\n",
    "10. letter 10: 'y' -> it is not 'r' so we don't increase the counter. counter -> 3\n",
    "Now we have completed the iteration through the letters of the word \"strawberry\". The final value of the counter is 3. So the answer is 3.\n",
    "\n",
    "Question: How many “I”s are in the word “Antidisestablishmentarianism”?\n",
    "Answer: Lets think step by step.\n",
    "\"\"\"\n",
    "\n",
    "stream: Iterator[GenerateResponse] = generate(\n",
    "    model=\"gemma3:12b\",\n",
    "    prompt=prompt,\n",
    "    stream=True\n",
    ")\n",
    "for chunk in stream:\n",
    "    print(chunk.response, end=\"\", flush=True)"
   ],
   "id": "1d0785c509ab4e57",
   "outputs": [
    {
     "name": "stdout",
     "output_type": "stream",
     "text": [
      "Let's think step by step. We break the word \"Antidisestablishmentarianism\" into its letters. The letters are A, n, t, i, d, i, s, e, s, t, a, b, l, i, s, h, m, e, n, t, a, r, i, a, n, i, s, m. Now we iterate through the letters and count the number of \"I\"s.\n",
      "\n",
      "start iteration:\n",
      "1. letter 1: 'A' -> it is not 'i' so we don't increase the counter. counter -> 0\n",
      "2. letter 2: 'n' -> it is not 'i' so we don't increase the counter. counter -> 0\n",
      "3. letter 3: 't' -> it is not 'i' so we don't increase the counter. counter -> 0\n",
      "4. letter 4: 'i' -> it is 'i' so we increase the counter. counter -> 1\n",
      "5. letter 5: 'd' -> it is not 'i' so we don't increase the counter. counter -> 1\n",
      "6. letter 6: 'i' -> it is 'i' so we increase the counter. counter -> 2\n",
      "7. letter 7: 's' -> it is not 'i' so we don't increase the counter. counter -> 2\n",
      "8. letter 8: 'e' -> it is not 'i' so we don't increase the counter. counter -> 2\n",
      "9. letter 9: 's' -> it is not 'i' so we don't increase the counter. counter -> 2\n",
      "10. letter 10: 't' -> it is not 'i' so we don't increase the counter. counter -> 2\n",
      "11. letter 11: 'a' -> it is not 'i' so we don't increase the counter. counter -> 2\n",
      "12. letter 12: 'b' -> it is not 'i' so we don't increase the counter. counter -> 2\n",
      "13. letter 13: 'l' -> it is not 'i' so we don't increase the counter. counter -> 2\n",
      "14. letter 14: 'i' -> it is 'i' so we increase the counter. counter -> 3\n",
      "15. letter 15: 's' -> it is not 'i' so we don't increase the counter. counter -> 3\n",
      "16. letter 16: 'h' -> it is not 'i' so we don't increase the counter. counter -> 3\n",
      "17. letter 17: 'm' -> it is not 'i' so we don't increase the counter. counter -> 3\n",
      "18. letter 18: 'e' -> it is not 'i' so we don't increase the counter. counter -> 3\n",
      "19. letter 19: 'n' -> it is not 'i' so we don't increase the counter. counter -> 3\n",
      "20. letter 20: 't' -> it is not 'i' so we don't increase the counter. counter -> 3\n",
      "21. letter 21: 'a' -> it is not 'i' so we don't increase the counter. counter -> 3\n",
      "22. letter 22: 'r' -> it is not 'i' so we don't increase the counter. counter -> 3\n",
      "23. letter 23: 'i' -> it is 'i' so we increase the counter. counter -> 4\n",
      "24. letter 24: 'a' -> it is not 'i' so we don't increase the counter. counter -> 4\n",
      "25. letter 25: 'n' -> it is not 'i' so we don't increase the counter. counter -> 4\n",
      "26. letter 26: 'i' -> it is 'i' so we increase the counter. counter -> 5\n",
      "27. letter 27: 's' -> it is not 'i' so we don't increase the counter. counter -> 5\n",
      "28. letter 28: 'm' -> it is not 'i' so we don't increase the counter. counter -> 5\n",
      "\n",
      "Now we have completed the iteration through the letters of the word \"Antidisestablishmentarianism\". The final value of the counter is 5. So the answer is 5.\n"
     ]
    }
   ],
   "execution_count": 14
  },
  {
   "metadata": {},
   "cell_type": "markdown",
   "source": "Now we see that the model broke down the problem into multiple steps and provided the correct answer. This is the essence of chain of thought prompting.",
   "id": "fbc95f41429badfc"
  }
 ],
 "metadata": {},
 "nbformat": 4,
 "nbformat_minor": 5
}
