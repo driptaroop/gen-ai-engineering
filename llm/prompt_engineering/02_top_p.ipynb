{
 "cells": [
  {
   "metadata": {},
   "cell_type": "markdown",
   "source": [
    "# Top-P sampling\n",
    "\n",
    "A sampling technique with temperature, called nucleus sampling, where you can control how deterministic the model is. If you are looking for exact and factual answers keep this low. If you are looking for more diverse responses, increase to a higher value. If you use Top P it means that only the tokens comprising the top_p probability mass are considered for responses, so a low top_p value selects the most confident responses. This means that a high top_p value will enable the model to look at more possible words, including less likely ones, leading to more diverse outputs.\n",
    "\n",
    "## Example"
   ],
   "id": "512b9df17fee4092"
  },
  {
   "metadata": {
    "ExecuteTime": {
     "end_time": "2025-04-23T13:00:54.704336Z",
     "start_time": "2025-04-23T13:00:51.682567Z"
    }
   },
   "cell_type": "code",
   "source": [
    "from ollama import generate, Options, GenerateResponse\n",
    "from typing import Iterator\n",
    "\n",
    "stream: Iterator[GenerateResponse] = generate(\n",
    "    model=\"gemma3:12b\",\n",
    "    prompt=\"what is the capital of Germany?\",\n",
    "    options=Options(top_p=0.5),\n",
    "    stream=True\n",
    ")\n",
    "for chunk in stream:\n",
    "    print(chunk.response, end=\"\", flush=True)"
   ],
   "id": "522ffaad34fd9ccb",
   "outputs": [
    {
     "name": "stdout",
     "output_type": "stream",
     "text": [
      "The capital of Germany is **Berlin**.\n",
      "\n",
      "\n",
      "\n",
      "It's also the largest city in Germany!"
     ]
    }
   ],
   "execution_count": 7
  }
 ],
 "metadata": {},
 "nbformat": 4,
 "nbformat_minor": 5
}
