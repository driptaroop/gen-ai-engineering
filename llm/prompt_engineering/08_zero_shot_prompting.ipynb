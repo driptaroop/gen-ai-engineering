{
 "cells": [
  {
   "metadata": {},
   "cell_type": "markdown",
   "source": "# Zero Shot Prompting",
   "id": "3eacf80889bc11b2"
  }
 ],
 "metadata": {},
 "nbformat": 4,
 "nbformat_minor": 5
}
