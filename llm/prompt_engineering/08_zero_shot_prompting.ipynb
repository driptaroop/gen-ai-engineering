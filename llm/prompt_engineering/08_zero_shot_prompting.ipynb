{
 "cells": [
  {
   "metadata": {},
   "cell_type": "markdown",
   "source": [
    "# Zero Shot Prompting\n",
    "\n",
    "Zero-shot prompting is a technique used in natural language processing (NLP) where a model is asked to perform a task without any prior examples or training on that specific task. The model is expected to generalize its knowledge and understanding of language to provide a relevant response based on the given prompt.\n",
    "\n",
    "## Example"
   ],
   "id": "3eacf80889bc11b2"
  },
  {
   "metadata": {
    "ExecuteTime": {
     "end_time": "2025-04-23T14:56:37.518365Z",
     "start_time": "2025-04-23T14:56:12.892562Z"
    }
   },
   "cell_type": "code",
   "source": [
    "from ollama import generate, GenerateResponse\n",
    "from typing import Iterator\n",
    "\n",
    "prompt = \"\"\"\n",
    "Classify the text into neutral, negative or positive.\n",
    "Text: Let's go see a movie tonight to start our weekend.\n",
    "Sentiment:\n",
    "\"\"\"\n",
    "\n",
    "stream: Iterator[GenerateResponse] = generate(\n",
    "    model=\"gemma3:12b\",\n",
    "    prompt=prompt,\n",
    "    stream=True\n",
    ")\n",
    "for chunk in stream:\n",
    "    print(chunk.response, end=\"\", flush=True)"
   ],
   "id": "8a3034980ef138de",
   "outputs": [
    {
     "name": "stdout",
     "output_type": "stream",
     "text": [
      "Sentiment: **Positive**\n",
      "\n",
      "The text expresses a suggestion for a fun activity (\"Let's go see a movie\") and frames it as a positive start to the weekend. This indicates a generally upbeat and optimistic tone."
     ]
    }
   ],
   "execution_count": 1
  }
 ],
 "metadata": {},
 "nbformat": 4,
 "nbformat_minor": 5
}
