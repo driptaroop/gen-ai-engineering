{
 "cells": [
  {
   "metadata": {},
   "cell_type": "markdown",
   "source": [
    "# Self consistency Prompting\n",
    "Unlike other prompting techniques before, self-consistency prompting is not a single prompt. It is a technique that uses multiple prompts to generate multiple responses and then selects the most common or most relevant response from those generated responses. This technique is particularly useful for tasks where there may be multiple valid answers or where the model's output may be uncertain.\n",
    "\n",
    "## Example"
   ],
   "id": "c7655a9796a870dc"
  },
  {
   "metadata": {
    "ExecuteTime": {
     "end_time": "2025-04-24T09:34:18.365678Z",
     "start_time": "2025-04-24T09:34:09.737304Z"
    }
   },
   "cell_type": "code",
   "source": [
    "from ollama import generate, GenerateResponse\n",
    "from typing import Iterator\n",
    "\n",
    "prompt = \"\"\"\n",
    "EMAIL:\n",
    "Hi,\n",
    "I have seen you use Wordpress for your website. A great open source content management system. I have used it in the past too. It comes with lots of great user plugins. And it's pretty easy to set up.\n",
    "I did notice a bug in the contact form, which happens when you select the name field. See the attached screenshot of me entering text in the name field. Notice the JavaScript alert box that I inv0k3d.\n",
    "But for the rest it's great website. I enjoy reading it. Feel. free to leave the bug in the website, because it gives me more interesting things to read.\n",
    "Cheers,\n",
    "Harry the Hacker.\n",
    "\n",
    "Classify the above email as IMPORTANT or NOT IMPORTANT. Let's think step by step and explain why.\n",
    "\"\"\"\n",
    "\n",
    "stream: Iterator[GenerateResponse] = generate(\n",
    "    model=\"llama3.1:8b\",\n",
    "    prompt=prompt,\n",
    "    stream=True\n",
    ")\n",
    "for chunk in stream:\n",
    "    print(chunk.response, end=\"\", flush=True)"
   ],
   "id": "561925a01c8a747e",
   "outputs": [
    {
     "name": "stdout",
     "output_type": "stream",
     "text": [
      "Let's break down the email:\n",
      "\n",
      "1. **Notification of a bug**: The sender has taken the time to identify an issue on the website (specifically, in the contact form) and is providing a screenshot as evidence.\n",
      "2. **Specificity**: Harry mentions a specific problem with the name field, indicating that he's not just being vague about a potential issue.\n",
      "3. **Tone**: Despite mentioning that the bug \"gives me more interesting things to read\", the overall tone of the email remains helpful and informative.\n",
      "\n",
      "Considering these factors, I would classify this email as **IMPORTANT**. Here's why:\n",
      "\n",
      "* The sender is providing constructive feedback that could potentially improve the website's functionality.\n",
      "* Identifying and reporting bugs is an important aspect of web development and maintenance.\n",
      "* The email requires attention from someone with technical expertise to investigate and resolve the issue.\n",
      "\n",
      "Overall, while the tone may be somewhat playful, the content of the email suggests that it's a genuine attempt to help the website owner improve their site."
     ]
    }
   ],
   "execution_count": 14
  },
  {
   "metadata": {
    "ExecuteTime": {
     "end_time": "2025-04-24T09:33:24.817930Z",
     "start_time": "2025-04-24T09:33:16.209223Z"
    }
   },
   "cell_type": "code",
   "source": [
    "from ollama import generate, GenerateResponse\n",
    "from typing import Iterator\n",
    "\n",
    "prompt = \"\"\"\n",
    "EMAIL:\n",
    "Hi,\n",
    "I have seen you use Wordpress for your website. A great open source content management system. I have used it in the past too. It comes with lots of great user plugins. And it's pretty easy to set up.\n",
    "I did notice a bug in the contact form, which happens when you select the name field. See the attached screenshot of me entering text in the name field. Notice the JavaScript alert box that I inv0k3d.\n",
    "But for the rest it's great website. I enjoy reading it. Feel. free to leave the bug in the website, because it gives me more interesting things to read.\n",
    "Cheers,\n",
    "Harry the Hacker.\n",
    "\n",
    "Classify the above email as IMPORTANT or NOT IMPORTANT. Let's think step by step and explain why.\n",
    "\"\"\"\n",
    "\n",
    "stream: Iterator[GenerateResponse] = generate(\n",
    "    model=\"llama3.1:8b\",\n",
    "    prompt=prompt,\n",
    "    stream=True\n",
    ")\n",
    "for chunk in stream:\n",
    "    print(chunk.response, end=\"\", flush=True)"
   ],
   "id": "3112a1407cdd00d",
   "outputs": [
    {
     "name": "stdout",
     "output_type": "stream",
     "text": [
      "Let's break down the email:\n",
      "\n",
      "1. **Content**: The sender is pointing out a bug on the website, which suggests that they are trying to be helpful.\n",
      "2. **Tone**: The tone of the email is casual and even playful (e.g., \"Harry the Hacker\" and \"Feel free to leave the bug in...\"). This tone is not typically associated with serious or urgent matters.\n",
      "3. **Purpose**: The purpose of the email is to inform the recipient about a potential issue on their website, but it's not an emergency or a critical problem that needs immediate attention.\n",
      "\n",
      "Considering these points, I would classify this email as:\n",
      "\n",
      "**NOT IMPORTANT**\n",
      "\n",
      "While the sender is trying to be helpful by pointing out a bug, the tone and language used suggest that they are not particularly concerned with getting a prompt response from the recipient. The fact that they're even suggesting leaving the bug in place also implies that it's not a high-priority issue."
     ]
    }
   ],
   "execution_count": 11
  },
  {
   "metadata": {
    "ExecuteTime": {
     "end_time": "2025-04-24T09:33:43.296105Z",
     "start_time": "2025-04-24T09:33:31.327844Z"
    }
   },
   "cell_type": "code",
   "source": [
    "from ollama import generate, GenerateResponse\n",
    "from typing import Iterator\n",
    "\n",
    "prompt = \"\"\"\n",
    "EMAIL:\n",
    "Hi,\n",
    "I have seen you use Wordpress for your website. A great open source content management system. I have used it in the past too. It comes with lots of great user plugins. And it's pretty easy to set up.\n",
    "I did notice a bug in the contact form, which happens when you select the name field. See the attached screenshot of me entering text in the name field. Notice the JavaScript alert box that I inv0k3d.\n",
    "But for the rest it's great website. I enjoy reading it. Feel. free to leave the bug in the website, because it gives me more interesting things to read.\n",
    "Cheers,\n",
    "Harry the Hacker.\n",
    "\n",
    "Classify the above email as IMPORTANT or NOT IMPORTANT. Let's think step by step and explain why.\n",
    "\"\"\"\n",
    "\n",
    "stream: Iterator[GenerateResponse] = generate(\n",
    "    model=\"llama3.1:8b\",\n",
    "    prompt=prompt,\n",
    "    stream=True\n",
    ")\n",
    "for chunk in stream:\n",
    "    print(chunk.response, end=\"\", flush=True)"
   ],
   "id": "972c4413ef075a2a",
   "outputs": [
    {
     "name": "stdout",
     "output_type": "stream",
     "text": [
      "Let's break down the email and classify it:\n",
      "\n",
      "1. **Content**: The email is about a bug found in a contact form on the website. This indicates that the sender, Harry the Hacker, has taken the time to investigate and report an issue.\n",
      "\n",
      "2. **Tone**: Despite the name \"Harry the Hacker,\" which could imply malicious intent, the tone of the email seems more playful than threatening. The language is casual (\"Cheers\"), and there's even a hint of humor in saying that the bug gives him interesting things to read.\n",
      "\n",
      "3. **Purpose**: Harry's purpose is not to cause harm or exploit the website but rather to inform the owner about an issue they might want to fix. This suggests a genuine attempt at helping, albeit with a somewhat unusual manner of presenting it.\n",
      "\n",
      "4. **Attachments**: The email includes a screenshot of the bug in action, which demonstrates that Harry has taken concrete steps to document and report the issue.\n",
      "\n",
      "Considering these points, I would classify this email as **IMPORTANT** because:\n",
      "\n",
      "- It informs the website owner about a potential technical issue.\n",
      "- It is accompanied by evidence (the screenshot) to support the claim.\n",
      "- The sender's tone, despite being playful, does not indicate any malicious intent.\n",
      "\n",
      "However, it's worth noting that the email could be handled differently. A more professional approach would provide clear instructions on how to reproduce and fix the bug rather than leaving it as \"interesting reading.\""
     ]
    }
   ],
   "execution_count": 12
  },
  {
   "metadata": {},
   "cell_type": "markdown",
   "source": [
    "Here, we have a prompt that asks the model to classify an email as IMPORTANT or NOT IMPORTANT multiple times. 2 out of 3 times, the model classified this email as IMPORTANT and 1 time as NOT IMPORTANT. So, we can say that the email is IMPORTANT. This is a simple example of self-consistency prompting.\n",
    "\n",
    "# Achieving self-consistency in single prompt via role based prompting"
   ],
   "id": "2d206e214518f502"
  },
  {
   "metadata": {
    "ExecuteTime": {
     "end_time": "2025-04-24T09:45:10.090801Z",
     "start_time": "2025-04-24T09:44:50.925791Z"
    }
   },
   "cell_type": "code",
   "source": [
    "from ollama import generate, GenerateResponse\n",
    "from typing import Iterator\n",
    "\n",
    "prompt = \"\"\"\n",
    "Instructions: You will act as 6 different completely independent personalities named p1,p2,p3,p4,p5 and p6. All of them are stakeholders of the website. p1,p2,p3,p4 and p5 are IT personalities and p6 is the CTO. Each personality except p6 will check the email below independently and think step by step to give its own opinion on the email by classifying it as IMPORTANT or NOT IMPORTANT. p6 will then give its opinion on the majority opinion of the other 5 personalities. The email is as follows:\n",
    "\n",
    "EMAIL:\n",
    "Hi,\n",
    "I have seen you use Wordpress for your website. A great open source content management system. I have used it in the past too. It comes with lots of great user plugins. And it's pretty easy to set up.\n",
    "I did notice a bug in the contact form, which happens when you select the name field. See the attached screenshot of me entering text in the name field. Notice the JavaScript alert box that I inv0k3d.\n",
    "But for the rest it's great website. I enjoy reading it. Feel. free to leave the bug in the website, because it gives me more interesting things to read.\n",
    "Cheers,\n",
    "Harry the Hacker.\n",
    "\"\"\"\n",
    "\n",
    "stream: Iterator[GenerateResponse] = generate(\n",
    "    model=\"llama3.1:8b\",\n",
    "    prompt=prompt,\n",
    "    stream=True\n",
    ")\n",
    "for chunk in stream:\n",
    "    print(chunk.response, end=\"\", flush=True)"
   ],
   "id": "cd77ff01d23b10a3",
   "outputs": [
    {
     "name": "stdout",
     "output_type": "stream",
     "text": [
      "I'll simulate each personality's thought process and classify the email as IMPORTANT or NOT IMPORTANT.\n",
      "\n",
      "**p1:**\n",
      " Hmm, a bug report from someone who claims to be a hacker. I need to check the website code to see if it's true. If there's indeed a vulnerability, it could compromise user data. And they're saying it's just a JavaScript issue... better safe than sorry. **IMPORTANT**\n",
      "\n",
      "**p2:**\n",
      "I'm not sure about this email. The guy seems nice and appreciative of our content, but he's also calling himself a hacker. That doesn't sit well with me. I'll check the website code anyway, just in case it's legit. Maybe there's an issue with the contact form that we haven't noticed before... **IMPORTANT**\n",
      "\n",
      "**p3:**\n",
      "This guy is trying to be funny by signing as \"Harry the Hacker.\" I'm not buying it. If he really was a hacker, wouldn't he try to exploit the bug instead of sending a friendly email? Sounds like a prank to me. **NOT IMPORTANT**\n",
      "\n",
      "**p4:**\n",
      "I'll just verify the issue and then probably fix it or at least acknowledge the user's feedback. We can't afford to have bugs on our website, even if this guy is just trying to be helpful. Better be safe than sorry... **IMPORTANT**\n",
      "\n",
      "**p5:**\n",
      "Okay, let me analyze this email a bit more. The contact form issue could indeed be a problem, and it's good that someone is keeping an eye out for vulnerabilities. But what if this is a targeted attack or a social engineering attempt? I need to bring this up with the team... **IMPORTANT**\n",
      "\n",
      "**p6 (CTO):**\n",
      "After reviewing the opinions of p1, p2, p3, p4, and p5, it seems that 4 out of 5 IT personalities consider the email as IMPORTANT. This is a clear majority, so I'll classify this email as IMPORTANT as well. We should investigate the bug report and take necessary measures to secure our website.\n",
      "\n",
      "CTO's final classification: **IMPORTANT**"
     ]
    }
   ],
   "execution_count": 24
  }
 ],
 "metadata": {},
 "nbformat": 4,
 "nbformat_minor": 5
}
